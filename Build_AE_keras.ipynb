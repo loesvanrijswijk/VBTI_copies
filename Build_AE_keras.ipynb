{
  "nbformat": 4,
  "nbformat_minor": 0,
  "metadata": {
    "kernelspec": {
      "display_name": "Python 3",
      "language": "python",
      "name": "python3"
    },
    "language_info": {
      "codemirror_mode": {
        "name": "ipython",
        "version": 3
      },
      "file_extension": ".py",
      "mimetype": "text/x-python",
      "name": "python",
      "nbconvert_exporter": "python",
      "pygments_lexer": "ipython3",
      "version": "3.7.9"
    },
    "colab": {
      "name": "Build_AE_keras.ipynb",
      "provenance": [],
      "include_colab_link": true
    }
  },
  "cells": [
    {
      "cell_type": "markdown",
      "metadata": {
        "id": "view-in-github",
        "colab_type": "text"
      },
      "source": [
        "<a href=\"https://colab.research.google.com/github/loesvanrijswijk/VBTI_copies/blob/main/Build_AE_keras.ipynb\" target=\"_parent\"><img src=\"https://colab.research.google.com/assets/colab-badge.svg\" alt=\"Open In Colab\"/></a>"
      ]
    },
    {
      "cell_type": "markdown",
      "metadata": {
        "id": "1UEKyWT5XN2R"
      },
      "source": [
        "Building autoencoders in keras\n",
        "\n",
        "author: Loes van Rijswijk\n",
        "date: 29-10-21"
      ]
    },
    {
      "cell_type": "markdown",
      "metadata": {
        "id": "J-qowZ5vZoJG"
      },
      "source": [
        "Questions:\n",
        "\n",
        "decoder_layer = autoencoder.layers[-1] ##<-- only possible since have 1 layer in decoder NN right?\n",
        "\n",
        "anwer: no always, use this for the output of decoder model so all steps are covered in this layer?!"
      ]
    },
    {
      "cell_type": "markdown",
      "metadata": {
        "id": "BaSi4UPJXN2W"
      },
      "source": [
        "# Import"
      ]
    },
    {
      "cell_type": "code",
      "metadata": {
        "id": "7jdw9YBIXN2X"
      },
      "source": [
        "import keras\n",
        "from keras import layers\n",
        "from keras import regularizers\n",
        "\n",
        "\n",
        "from keras.datasets import mnist\n",
        "import numpy as np\n",
        "import matplotlib.pyplot as plt"
      ],
      "execution_count": null,
      "outputs": []
    },
    {
      "cell_type": "code",
      "metadata": {
        "id": "p1VqM42aXN2Z"
      },
      "source": [
        ""
      ],
      "execution_count": null,
      "outputs": []
    },
    {
      "cell_type": "code",
      "metadata": {
        "id": "B8F0NZ2VXN2c"
      },
      "source": [
        "## input data"
      ],
      "execution_count": null,
      "outputs": []
    },
    {
      "cell_type": "code",
      "metadata": {
        "id": "isXaCRffXN2d"
      },
      "source": [
        "(x_train,_),(x_test,_) = mnist.load_data()"
      ],
      "execution_count": null,
      "outputs": []
    },
    {
      "cell_type": "code",
      "metadata": {
        "colab": {
          "base_uri": "https://localhost:8080/",
          "height": 282
        },
        "id": "aNAZCNDJXN2d",
        "outputId": "3322600a-616d-48d0-9877-40529ed2d4bd"
      },
      "source": [
        "plt.figure()\n",
        "plt.imshow(x_train[0])"
      ],
      "execution_count": null,
      "outputs": [
        {
          "output_type": "execute_result",
          "data": {
            "text/plain": [
              "<matplotlib.image.AxesImage at 0x7f189a85ec50>"
            ]
          },
          "metadata": {},
          "execution_count": 4
        },
        {
          "output_type": "display_data",
          "data": {
            "image/png": "[encoded data removed]",
            "text/plain": [
              "<Figure size 432x288 with 1 Axes>"
            ]
          },
          "metadata": {
            "needs_background": "light"
          }
        }
      ]
    },
    {
      "cell_type": "code",
      "metadata": {
        "colab": {
          "base_uri": "https://localhost:8080/"
        },
        "id": "cVPHWj2uXN2d",
        "outputId": "53a5de4f-2024-4743-d3fa-f6e27d88113b"
      },
      "source": [
        "# normalize\n",
        "print(x_train.min(), x_train.max())\n",
        "x_train = x_train/x_train.max()\n",
        "x_test = x_test/x_test.max()\n",
        "\n",
        "# flatten the vector\n",
        "x_train = x_train.reshape((len(x_train), np.prod(x_train.shape[1:])))\n",
        "x_test = x_test.reshape((len(x_test), np.prod(x_test.shape[1:])))\n"
      ],
      "execution_count": null,
      "outputs": [
        {
          "output_type": "stream",
          "name": "stdout",
          "text": [
            "0 255\n"
          ]
        }
      ]
    },
    {
      "cell_type": "markdown",
      "metadata": {
        "id": "ncpHS1dQXN2Z"
      },
      "source": [
        "# simple autoencoder"
      ]
    },
    {
      "cell_type": "code",
      "metadata": {
        "id": "jMiPlaA2XN2a"
      },
      "source": [
        "## define inputs and model"
      ],
      "execution_count": null,
      "outputs": []
    },
    {
      "cell_type": "code",
      "metadata": {
        "id": "fgX1cp5CXN2a"
      },
      "source": [
        "#size of our encoded representation\n",
        "encoding_dim = 32 # 32 floats -> compression of factor 24.5, assuming the input is 784 floats\n",
        "\n",
        "# input image\n",
        "input_img = keras.Input(shape=(784,))\n",
        "# encoded reperesnetation of the input\n",
        "encoded = layers.Dense(encoding_dim, activation='relu')(input_img)\n",
        "# lossy reconstruction of the input\n",
        "decoded = layers.Dense(784, activation='sigmoid')(encoded)\n",
        "\n",
        "# model that maps input to its reconstruction\n",
        "autoencoder = keras.Model(input_img, decoded)\n",
        "# model that maps input to its encoded representation\n",
        "encoder = keras.Model(input_img, encoded)\n",
        "\n",
        "## decoder model\n",
        "# encoded input\n",
        "encoded_input = keras.Input(shape=(encoding_dim,))\n",
        "# last layer of autoencoder model\n",
        "decoder_layer = autoencoder.layers[-1] \n",
        "# model that maps the encoded input to the decoded reconstruction\n",
        "decoder = keras.Model(encoded_input, decoder_layer(encoded_input))"
      ],
      "execution_count": null,
      "outputs": []
    },
    {
      "cell_type": "code",
      "metadata": {
        "id": "adcYMwxkXN2b"
      },
      "source": [
        "# define optimizer and loss function\n",
        "\n",
        "# per-pixel binary crossentropy loss + Adam\n",
        "autoencoder.compile(optimizer='adam', loss='binary_crossentropy')"
      ],
      "execution_count": null,
      "outputs": []
    },
    {
      "cell_type": "code",
      "metadata": {
        "id": "4R-1IfXRXN2e"
      },
      "source": [
        "## train autoencoder"
      ],
      "execution_count": null,
      "outputs": []
    },
    {
      "cell_type": "code",
      "metadata": {
        "colab": {
          "base_uri": "https://localhost:8080/"
        },
        "id": "K1EpjC1vXN2e",
        "outputId": "87d743a6-8e05-4060-aefe-5184434b0b3c"
      },
      "source": [
        "autoencoder.fit(x_train,x_train, epochs = 50, batch_size = 256, shuffle = True, validation_data = (x_test,x_test))"
      ],
      "execution_count": null,
      "outputs": [
        {
          "output_type": "stream",
          "name": "stdout",
          "text": [
            "Epoch 1/50\n",
            "235/235 [==============================] - 2s 9ms/step - loss: 0.2749 - val_loss: 0.1941\n",
            "Epoch 2/50\n",
            "235/235 [==============================] - 2s 9ms/step - loss: 0.1744 - val_loss: 0.1559\n",
            "Epoch 3/50\n",
            "235/235 [==============================] - 2s 9ms/step - loss: 0.1458 - val_loss: 0.1347\n",
            "Epoch 4/50\n",
            "235/235 [==============================] - 2s 9ms/step - loss: 0.1291 - val_loss: 0.1216\n",
            "Epoch 5/50\n",
            "235/235 [==============================] - 2s 9ms/step - loss: 0.1185 - val_loss: 0.1130\n",
            "Epoch 6/50\n",
            "235/235 [==============================] - 2s 9ms/step - loss: 0.1113 - val_loss: 0.1071\n",
            "Epoch 7/50\n",
            "235/235 [==============================] - 2s 9ms/step - loss: 0.1062 - val_loss: 0.1027\n",
            "Epoch 8/50\n",
            "235/235 [==============================] - 2s 9ms/step - loss: 0.1025 - val_loss: 0.0997\n",
            "Epoch 9/50\n",
            "235/235 [==============================] - 2s 9ms/step - loss: 0.0998 - val_loss: 0.0975\n",
            "Epoch 10/50\n",
            "235/235 [==============================] - 2s 9ms/step - loss: 0.0979 - val_loss: 0.0959\n",
            "Epoch 11/50\n",
            "235/235 [==============================] - 2s 9ms/step - loss: 0.0966 - val_loss: 0.0948\n",
            "Epoch 12/50\n",
            "235/235 [==============================] - 2s 9ms/step - loss: 0.0957 - val_loss: 0.0940\n",
            "Epoch 13/50\n",
            "235/235 [==============================] - 2s 9ms/step - loss: 0.0951 - val_loss: 0.0936\n",
            "Epoch 14/50\n",
            "235/235 [==============================] - 2s 9ms/step - loss: 0.0946 - val_loss: 0.0932\n",
            "Epoch 15/50\n",
            "235/235 [==============================] - 2s 9ms/step - loss: 0.0943 - val_loss: 0.0929\n",
            "Epoch 16/50\n",
            "235/235 [==============================] - 2s 9ms/step - loss: 0.0941 - val_loss: 0.0927\n",
            "Epoch 17/50\n",
            "235/235 [==============================] - 2s 9ms/step - loss: 0.0939 - val_loss: 0.0926\n",
            "Epoch 18/50\n",
            "235/235 [==============================] - 2s 9ms/step - loss: 0.0937 - val_loss: 0.0925\n",
            "Epoch 19/50\n",
            "235/235 [==============================] - 2s 9ms/step - loss: 0.0936 - val_loss: 0.0923\n",
            "Epoch 20/50\n",
            "235/235 [==============================] - 2s 9ms/step - loss: 0.0935 - val_loss: 0.0922\n",
            "Epoch 21/50\n",
            "235/235 [==============================] - 2s 8ms/step - loss: 0.0934 - val_loss: 0.0922\n",
            "Epoch 22/50\n",
            "235/235 [==============================] - 2s 8ms/step - loss: 0.0933 - val_loss: 0.0921\n",
            "Epoch 23/50\n",
            "235/235 [==============================] - 2s 9ms/step - loss: 0.0933 - val_loss: 0.0920\n",
            "Epoch 24/50\n",
            "235/235 [==============================] - 2s 9ms/step - loss: 0.0932 - val_loss: 0.0921\n",
            "Epoch 25/50\n",
            "235/235 [==============================] - 2s 9ms/step - loss: 0.0932 - val_loss: 0.0918\n",
            "Epoch 26/50\n",
            "235/235 [==============================] - 2s 9ms/step - loss: 0.0931 - val_loss: 0.0919\n",
            "Epoch 27/50\n",
            "235/235 [==============================] - 2s 9ms/step - loss: 0.0931 - val_loss: 0.0918\n",
            "Epoch 28/50\n",
            "235/235 [==============================] - 2s 9ms/step - loss: 0.0930 - val_loss: 0.0918\n",
            "Epoch 29/50\n",
            "235/235 [==============================] - 2s 9ms/step - loss: 0.0930 - val_loss: 0.0918\n",
            "Epoch 30/50\n",
            "235/235 [==============================] - 2s 9ms/step - loss: 0.0929 - val_loss: 0.0917\n",
            "Epoch 31/50\n",
            "235/235 [==============================] - 2s 9ms/step - loss: 0.0929 - val_loss: 0.0919\n",
            "Epoch 32/50\n",
            "235/235 [==============================] - 2s 9ms/step - loss: 0.0929 - val_loss: 0.0916\n",
            "Epoch 33/50\n",
            "235/235 [==============================] - 2s 9ms/step - loss: 0.0929 - val_loss: 0.0916\n",
            "Epoch 34/50\n",
            "235/235 [==============================] - 2s 9ms/step - loss: 0.0928 - val_loss: 0.0916\n",
            "Epoch 35/50\n",
            "235/235 [==============================] - 2s 9ms/step - loss: 0.0928 - val_loss: 0.0916\n",
            "Epoch 36/50\n",
            "235/235 [==============================] - 2s 9ms/step - loss: 0.0928 - val_loss: 0.0916\n",
            "Epoch 37/50\n",
            "235/235 [==============================] - 2s 9ms/step - loss: 0.0928 - val_loss: 0.0916\n",
            "Epoch 38/50\n",
            "235/235 [==============================] - 2s 8ms/step - loss: 0.0927 - val_loss: 0.0915\n",
            "Epoch 39/50\n",
            "235/235 [==============================] - 2s 9ms/step - loss: 0.0927 - val_loss: 0.0916\n",
            "Epoch 40/50\n",
            "235/235 [==============================] - 2s 9ms/step - loss: 0.0927 - val_loss: 0.0915\n",
            "Epoch 41/50\n",
            "235/235 [==============================] - 2s 9ms/step - loss: 0.0927 - val_loss: 0.0915\n",
            "Epoch 42/50\n",
            "235/235 [==============================] - 2s 9ms/step - loss: 0.0927 - val_loss: 0.0915\n",
            "Epoch 43/50\n",
            "235/235 [==============================] - 2s 9ms/step - loss: 0.0927 - val_loss: 0.0915\n",
            "Epoch 44/50\n",
            "235/235 [==============================] - 2s 9ms/step - loss: 0.0927 - val_loss: 0.0915\n",
            "Epoch 45/50\n",
            "235/235 [==============================] - 2s 9ms/step - loss: 0.0926 - val_loss: 0.0914\n",
            "Epoch 46/50\n",
            "235/235 [==============================] - 2s 9ms/step - loss: 0.0926 - val_loss: 0.0915\n",
            "Epoch 47/50\n",
            "235/235 [==============================] - 2s 9ms/step - loss: 0.0926 - val_loss: 0.0915\n",
            "Epoch 48/50\n",
            "235/235 [==============================] - 2s 9ms/step - loss: 0.0926 - val_loss: 0.0914\n",
            "Epoch 49/50\n",
            "235/235 [==============================] - 2s 9ms/step - loss: 0.0926 - val_loss: 0.0915\n",
            "Epoch 50/50\n",
            "235/235 [==============================] - 2s 9ms/step - loss: 0.0926 - val_loss: 0.0914\n"
          ]
        },
        {
          "output_type": "execute_result",
          "data": {
            "text/plain": [
              "<keras.callbacks.History at 0x7ff12739d3d0>"
            ]
          },
          "metadata": {},
          "execution_count": 37
        }
      ]
    },
    {
      "cell_type": "code",
      "metadata": {
        "id": "tcg3rHFZXN2e"
      },
      "source": [
        ""
      ],
      "execution_count": null,
      "outputs": []
    },
    {
      "cell_type": "code",
      "metadata": {
        "id": "_Rr-y0xMXN2g"
      },
      "source": [
        ""
      ],
      "execution_count": null,
      "outputs": []
    },
    {
      "cell_type": "code",
      "metadata": {
        "id": "sj09buMPXN2g"
      },
      "source": [
        ""
      ],
      "execution_count": null,
      "outputs": []
    },
    {
      "cell_type": "markdown",
      "metadata": {
        "id": "BUAVDR_fabvo"
      },
      "source": [
        "# Adding a sparsity constraint on the encoded representations"
      ]
    },
    {
      "cell_type": "markdown",
      "metadata": {
        "id": "ZxVfB9cqav8Y"
      },
      "source": [
        "add L1 activity regularizer to prevent overfit and can train longer"
      ]
    },
    {
      "cell_type": "code",
      "metadata": {
        "id": "VIi_kC79acQO"
      },
      "source": [
        "encoding_dim = 32\n",
        "\n",
        "input_img = keras.Input(shape=(784,))\n",
        "# Add a Dense layer with a L1 activity regularizer\n",
        "encoded = layers.Dense(encoding_dim, activation='relu',\n",
        "                activity_regularizer=regularizers.l1(10e-5))(input_img)\n",
        "decoded = layers.Dense(784, activation='sigmoid')(encoded)\n",
        "\n",
        "autoencoder = keras.Model(input_img, decoded)"
      ],
      "execution_count": null,
      "outputs": []
    },
    {
      "cell_type": "code",
      "metadata": {
        "id": "5RK_RMFLadTu"
      },
      "source": [
        "\n",
        "autoencoder.compile(optimizer='adam', loss='binary_crossentropy')"
      ],
      "execution_count": null,
      "outputs": []
    },
    {
      "cell_type": "code",
      "metadata": {
        "colab": {
          "base_uri": "https://localhost:8080/"
        },
        "id": "we7DFXnIadYq",
        "outputId": "f3e61bb4-8dd1-4d10-fb01-ed54cd9f6b52"
      },
      "source": [
        "autoencoder.fit(x_train,x_train, epochs = 100, batch_size = 256, shuffle = True, validation_data = (x_test,x_test))"
      ],
      "execution_count": null,
      "outputs": [
        {
          "output_type": "stream",
          "name": "stdout",
          "text": [
            "Epoch 1/100\n",
            "235/235 [==============================] - 3s 9ms/step - loss: 0.2832 - val_loss: 0.1993\n",
            "Epoch 2/100\n",
            "235/235 [==============================] - 2s 9ms/step - loss: 0.1807 - val_loss: 0.1636\n",
            "Epoch 3/100\n",
            "235/235 [==============================] - 2s 9ms/step - loss: 0.1547 - val_loss: 0.1446\n",
            "Epoch 4/100\n",
            "235/235 [==============================] - 2s 8ms/step - loss: 0.1396 - val_loss: 0.1326\n",
            "Epoch 5/100\n",
            "235/235 [==============================] - 2s 9ms/step - loss: 0.1297 - val_loss: 0.1247\n",
            "Epoch 6/100\n",
            "235/235 [==============================] - 2s 9ms/step - loss: 0.1229 - val_loss: 0.1189\n",
            "Epoch 7/100\n",
            "235/235 [==============================] - 2s 9ms/step - loss: 0.1179 - val_loss: 0.1145\n",
            "Epoch 8/100\n",
            "235/235 [==============================] - 2s 8ms/step - loss: 0.1140 - val_loss: 0.1112\n",
            "Epoch 9/100\n",
            "235/235 [==============================] - 2s 9ms/step - loss: 0.1112 - val_loss: 0.1089\n",
            "Epoch 10/100\n",
            "235/235 [==============================] - 2s 8ms/step - loss: 0.1093 - val_loss: 0.1072\n",
            "Epoch 11/100\n",
            "235/235 [==============================] - 2s 8ms/step - loss: 0.1079 - val_loss: 0.1061\n",
            "Epoch 12/100\n",
            "235/235 [==============================] - 2s 9ms/step - loss: 0.1069 - val_loss: 0.1052\n",
            "Epoch 13/100\n",
            "235/235 [==============================] - 2s 9ms/step - loss: 0.1061 - val_loss: 0.1045\n",
            "Epoch 14/100\n",
            "235/235 [==============================] - 2s 9ms/step - loss: 0.1054 - val_loss: 0.1039\n",
            "Epoch 15/100\n",
            "235/235 [==============================] - 2s 8ms/step - loss: 0.1049 - val_loss: 0.1034\n",
            "Epoch 16/100\n",
            "235/235 [==============================] - 2s 9ms/step - loss: 0.1044 - val_loss: 0.1029\n",
            "Epoch 17/100\n",
            "235/235 [==============================] - 2s 9ms/step - loss: 0.1040 - val_loss: 0.1026\n",
            "Epoch 18/100\n",
            "235/235 [==============================] - 2s 9ms/step - loss: 0.1036 - val_loss: 0.1023\n",
            "Epoch 19/100\n",
            "235/235 [==============================] - 2s 9ms/step - loss: 0.1033 - val_loss: 0.1020\n",
            "Epoch 20/100\n",
            "235/235 [==============================] - 2s 8ms/step - loss: 0.1030 - val_loss: 0.1017\n",
            "Epoch 21/100\n",
            "235/235 [==============================] - 2s 8ms/step - loss: 0.1027 - val_loss: 0.1014\n",
            "Epoch 22/100\n",
            "235/235 [==============================] - 2s 8ms/step - loss: 0.1024 - val_loss: 0.1012\n",
            "Epoch 23/100\n",
            "235/235 [==============================] - 2s 8ms/step - loss: 0.1022 - val_loss: 0.1009\n",
            "Epoch 24/100\n",
            "235/235 [==============================] - 2s 8ms/step - loss: 0.1020 - val_loss: 0.1007\n",
            "Epoch 25/100\n",
            "235/235 [==============================] - 2s 8ms/step - loss: 0.1018 - val_loss: 0.1005\n",
            "Epoch 26/100\n",
            "235/235 [==============================] - 2s 9ms/step - loss: 0.1016 - val_loss: 0.1003\n",
            "Epoch 27/100\n",
            "235/235 [==============================] - 2s 8ms/step - loss: 0.1014 - val_loss: 0.1001\n",
            "Epoch 28/100\n",
            "235/235 [==============================] - 2s 8ms/step - loss: 0.1012 - val_loss: 0.1000\n",
            "Epoch 29/100\n",
            "235/235 [==============================] - 2s 8ms/step - loss: 0.1010 - val_loss: 0.0999\n",
            "Epoch 30/100\n",
            "235/235 [==============================] - 2s 9ms/step - loss: 0.1009 - val_loss: 0.0997\n",
            "Epoch 31/100\n",
            "235/235 [==============================] - 2s 8ms/step - loss: 0.1007 - val_loss: 0.0995\n",
            "Epoch 32/100\n",
            "235/235 [==============================] - 2s 9ms/step - loss: 0.1006 - val_loss: 0.0994\n",
            "Epoch 33/100\n",
            "235/235 [==============================] - 2s 9ms/step - loss: 0.1005 - val_loss: 0.0993\n",
            "Epoch 34/100\n",
            "235/235 [==============================] - 2s 8ms/step - loss: 0.1003 - val_loss: 0.0991\n",
            "Epoch 35/100\n",
            "235/235 [==============================] - 2s 8ms/step - loss: 0.1002 - val_loss: 0.0990\n",
            "Epoch 36/100\n",
            "235/235 [==============================] - 2s 8ms/step - loss: 0.1001 - val_loss: 0.0989\n",
            "Epoch 37/100\n",
            "235/235 [==============================] - 2s 8ms/step - loss: 0.1000 - val_loss: 0.0988\n",
            "Epoch 38/100\n",
            "235/235 [==============================] - 2s 8ms/step - loss: 0.0999 - val_loss: 0.0987\n",
            "Epoch 39/100\n",
            "235/235 [==============================] - 2s 8ms/step - loss: 0.0998 - val_loss: 0.0986\n",
            "Epoch 40/100\n",
            "235/235 [==============================] - 2s 9ms/step - loss: 0.0997 - val_loss: 0.0985\n",
            "Epoch 41/100\n",
            "235/235 [==============================] - 2s 9ms/step - loss: 0.0996 - val_loss: 0.0984\n",
            "Epoch 42/100\n",
            "235/235 [==============================] - 2s 8ms/step - loss: 0.0995 - val_loss: 0.0984\n",
            "Epoch 43/100\n",
            "235/235 [==============================] - 2s 9ms/step - loss: 0.0994 - val_loss: 0.0983\n",
            "Epoch 44/100\n",
            "235/235 [==============================] - 2s 9ms/step - loss: 0.0993 - val_loss: 0.0982\n",
            "Epoch 45/100\n",
            "235/235 [==============================] - 2s 9ms/step - loss: 0.0992 - val_loss: 0.0981\n",
            "Epoch 46/100\n",
            "235/235 [==============================] - 2s 9ms/step - loss: 0.0991 - val_loss: 0.0980\n",
            "Epoch 47/100\n",
            "235/235 [==============================] - 2s 9ms/step - loss: 0.0991 - val_loss: 0.0979\n",
            "Epoch 48/100\n",
            "235/235 [==============================] - 2s 9ms/step - loss: 0.0990 - val_loss: 0.0979\n",
            "Epoch 49/100\n",
            "235/235 [==============================] - 2s 9ms/step - loss: 0.0989 - val_loss: 0.0978\n",
            "Epoch 50/100\n",
            "235/235 [==============================] - 2s 9ms/step - loss: 0.0988 - val_loss: 0.0977\n",
            "Epoch 51/100\n",
            "235/235 [==============================] - 2s 9ms/step - loss: 0.0988 - val_loss: 0.0977\n",
            "Epoch 52/100\n",
            "235/235 [==============================] - 2s 9ms/step - loss: 0.0987 - val_loss: 0.0977\n",
            "Epoch 53/100\n",
            "235/235 [==============================] - 2s 9ms/step - loss: 0.0987 - val_loss: 0.0976\n",
            "Epoch 54/100\n",
            "235/235 [==============================] - 2s 9ms/step - loss: 0.0986 - val_loss: 0.0975\n",
            "Epoch 55/100\n",
            "235/235 [==============================] - 2s 9ms/step - loss: 0.0985 - val_loss: 0.0974\n",
            "Epoch 56/100\n",
            "235/235 [==============================] - 2s 9ms/step - loss: 0.0985 - val_loss: 0.0974\n",
            "Epoch 57/100\n",
            "235/235 [==============================] - 2s 9ms/step - loss: 0.0984 - val_loss: 0.0973\n",
            "Epoch 58/100\n",
            "235/235 [==============================] - 2s 9ms/step - loss: 0.0983 - val_loss: 0.0973\n",
            "Epoch 59/100\n",
            "235/235 [==============================] - 2s 9ms/step - loss: 0.0983 - val_loss: 0.0972\n",
            "Epoch 60/100\n",
            "235/235 [==============================] - 2s 9ms/step - loss: 0.0982 - val_loss: 0.0971\n",
            "Epoch 61/100\n",
            "235/235 [==============================] - 2s 9ms/step - loss: 0.0982 - val_loss: 0.0971\n",
            "Epoch 62/100\n",
            "235/235 [==============================] - 2s 9ms/step - loss: 0.0981 - val_loss: 0.0970\n",
            "Epoch 63/100\n",
            "235/235 [==============================] - 2s 9ms/step - loss: 0.0981 - val_loss: 0.0970\n",
            "Epoch 64/100\n",
            "235/235 [==============================] - 2s 9ms/step - loss: 0.0980 - val_loss: 0.0969\n",
            "Epoch 65/100\n",
            "235/235 [==============================] - 2s 9ms/step - loss: 0.0980 - val_loss: 0.0969\n",
            "Epoch 66/100\n",
            "235/235 [==============================] - 2s 9ms/step - loss: 0.0979 - val_loss: 0.0969\n",
            "Epoch 67/100\n",
            "235/235 [==============================] - 2s 9ms/step - loss: 0.0979 - val_loss: 0.0968\n",
            "Epoch 68/100\n",
            "235/235 [==============================] - 2s 9ms/step - loss: 0.0979 - val_loss: 0.0968\n",
            "Epoch 69/100\n",
            "235/235 [==============================] - 2s 9ms/step - loss: 0.0978 - val_loss: 0.0968\n",
            "Epoch 70/100\n",
            "235/235 [==============================] - 2s 9ms/step - loss: 0.0978 - val_loss: 0.0968\n",
            "Epoch 71/100\n",
            "235/235 [==============================] - 2s 9ms/step - loss: 0.0977 - val_loss: 0.0967\n",
            "Epoch 72/100\n",
            "235/235 [==============================] - 2s 9ms/step - loss: 0.0977 - val_loss: 0.0966\n",
            "Epoch 73/100\n",
            "235/235 [==============================] - 2s 9ms/step - loss: 0.0977 - val_loss: 0.0966\n",
            "Epoch 74/100\n",
            "235/235 [==============================] - 2s 9ms/step - loss: 0.0976 - val_loss: 0.0966\n",
            "Epoch 75/100\n",
            "235/235 [==============================] - 2s 9ms/step - loss: 0.0976 - val_loss: 0.0965\n",
            "Epoch 76/100\n",
            "235/235 [==============================] - 2s 9ms/step - loss: 0.0975 - val_loss: 0.0965\n",
            "Epoch 77/100\n",
            "235/235 [==============================] - 2s 9ms/step - loss: 0.0975 - val_loss: 0.0964\n",
            "Epoch 78/100\n",
            "235/235 [==============================] - 2s 9ms/step - loss: 0.0975 - val_loss: 0.0964\n",
            "Epoch 79/100\n",
            "235/235 [==============================] - 2s 9ms/step - loss: 0.0974 - val_loss: 0.0963\n",
            "Epoch 80/100\n",
            "235/235 [==============================] - 2s 9ms/step - loss: 0.0974 - val_loss: 0.0963\n",
            "Epoch 81/100\n",
            "235/235 [==============================] - 2s 9ms/step - loss: 0.0974 - val_loss: 0.0964\n",
            "Epoch 82/100\n",
            "235/235 [==============================] - 2s 9ms/step - loss: 0.0973 - val_loss: 0.0962\n",
            "Epoch 83/100\n",
            "235/235 [==============================] - 2s 9ms/step - loss: 0.0973 - val_loss: 0.0962\n",
            "Epoch 84/100\n",
            "235/235 [==============================] - 2s 9ms/step - loss: 0.0972 - val_loss: 0.0962\n",
            "Epoch 85/100\n",
            "235/235 [==============================] - 2s 9ms/step - loss: 0.0972 - val_loss: 0.0962\n",
            "Epoch 86/100\n",
            "235/235 [==============================] - 2s 9ms/step - loss: 0.0972 - val_loss: 0.0962\n",
            "Epoch 87/100\n",
            "235/235 [==============================] - 2s 9ms/step - loss: 0.0972 - val_loss: 0.0961\n",
            "Epoch 88/100\n",
            "235/235 [==============================] - 2s 9ms/step - loss: 0.0971 - val_loss: 0.0961\n",
            "Epoch 89/100\n",
            "235/235 [==============================] - 2s 9ms/step - loss: 0.0971 - val_loss: 0.0961\n",
            "Epoch 90/100\n",
            "235/235 [==============================] - 2s 9ms/step - loss: 0.0971 - val_loss: 0.0960\n",
            "Epoch 91/100\n",
            "235/235 [==============================] - 2s 9ms/step - loss: 0.0970 - val_loss: 0.0960\n",
            "Epoch 92/100\n",
            "235/235 [==============================] - 2s 9ms/step - loss: 0.0970 - val_loss: 0.0960\n",
            "Epoch 93/100\n",
            "235/235 [==============================] - 2s 9ms/step - loss: 0.0970 - val_loss: 0.0960\n",
            "Epoch 94/100\n",
            "235/235 [==============================] - 2s 9ms/step - loss: 0.0969 - val_loss: 0.0959\n",
            "Epoch 95/100\n",
            "235/235 [==============================] - 2s 9ms/step - loss: 0.0969 - val_loss: 0.0959\n",
            "Epoch 96/100\n",
            "235/235 [==============================] - 2s 9ms/step - loss: 0.0969 - val_loss: 0.0958\n",
            "Epoch 97/100\n",
            "235/235 [==============================] - 2s 9ms/step - loss: 0.0969 - val_loss: 0.0959\n",
            "Epoch 98/100\n",
            "235/235 [==============================] - 2s 9ms/step - loss: 0.0968 - val_loss: 0.0958\n",
            "Epoch 99/100\n",
            "235/235 [==============================] - 2s 9ms/step - loss: 0.0968 - val_loss: 0.0958\n",
            "Epoch 100/100\n",
            "235/235 [==============================] - 2s 9ms/step - loss: 0.0968 - val_loss: 0.0957\n"
          ]
        },
        {
          "output_type": "execute_result",
          "data": {
            "text/plain": [
              "<keras.callbacks.History at 0x7ff12cb84710>"
            ]
          },
          "metadata": {},
          "execution_count": 19
        }
      ]
    },
    {
      "cell_type": "code",
      "metadata": {
        "id": "UF6jFtIeadb3"
      },
      "source": [
        ""
      ],
      "execution_count": null,
      "outputs": []
    },
    {
      "cell_type": "markdown",
      "metadata": {
        "id": "EBOYDc_hcfV5"
      },
      "source": [
        "# Deep autoencoder"
      ]
    },
    {
      "cell_type": "code",
      "metadata": {
        "id": "QcBwsj4fadel"
      },
      "source": [
        "input_img = keras.Input(shape=(784,))\n",
        "encoded = layers.Dense(128, activation='relu')(input_img)\n",
        "encoded = layers.Dense(64, activation='relu')(encoded)\n",
        "encoded = layers.Dense(32, activation='relu')(encoded)\n",
        "\n",
        "decoded = layers.Dense(64, activation='relu')(encoded)\n",
        "decoded = layers.Dense(128, activation='relu')(decoded)\n",
        "decoded = layers.Dense(784, activation='relu')(decoded)"
      ],
      "execution_count": null,
      "outputs": []
    },
    {
      "cell_type": "code",
      "metadata": {
        "colab": {
          "base_uri": "https://localhost:8080/"
        },
        "id": "N1a-dZUfadhV",
        "outputId": "5f07c275-8f0f-426b-ec43-3351619bad43"
      },
      "source": [
        "autoencoder = keras.Model(input_img, decoded)\n",
        "autoencoder.compile(optimizer='adam', loss='binary_crossentropy')\n",
        "\n",
        "autoencoder.fit(x_train, x_train,\n",
        "                epochs=100,\n",
        "                batch_size=256,\n",
        "                shuffle=True,\n",
        "                validation_data=(x_test, x_test))"
      ],
      "execution_count": null,
      "outputs": [
        {
          "output_type": "stream",
          "name": "stdout",
          "text": [
            "Epoch 1/100\n",
            "235/235 [==============================] - 4s 14ms/step - loss: 0.4134 - val_loss: 0.3492\n",
            "Epoch 2/100\n",
            "235/235 [==============================] - 3s 13ms/step - loss: 0.3283 - val_loss: 0.2996\n",
            "Epoch 3/100\n",
            "235/235 [==============================] - 3s 13ms/step - loss: 0.2936 - val_loss: 0.2824\n",
            "Epoch 4/100\n",
            "235/235 [==============================] - 3s 13ms/step - loss: 0.2943 - val_loss: 0.2770\n",
            "Epoch 5/100\n",
            "235/235 [==============================] - 3s 13ms/step - loss: 0.2651 - val_loss: 0.2554\n",
            "Epoch 6/100\n",
            "235/235 [==============================] - 3s 13ms/step - loss: 0.2527 - val_loss: 0.3110\n",
            "Epoch 7/100\n",
            "235/235 [==============================] - 3s 13ms/step - loss: 0.2671 - val_loss: 0.2549\n",
            "Epoch 8/100\n",
            "235/235 [==============================] - 3s 13ms/step - loss: 0.2575 - val_loss: 0.2686\n",
            "Epoch 9/100\n",
            "235/235 [==============================] - 3s 13ms/step - loss: 0.2588 - val_loss: 0.2690\n",
            "Epoch 10/100\n",
            "235/235 [==============================] - 3s 13ms/step - loss: 0.2583 - val_loss: 0.2488\n",
            "Epoch 11/100\n",
            "235/235 [==============================] - 3s 13ms/step - loss: 0.2507 - val_loss: 0.2447\n",
            "Epoch 12/100\n",
            "235/235 [==============================] - 3s 13ms/step - loss: 0.2492 - val_loss: 0.2534\n",
            "Epoch 13/100\n",
            "235/235 [==============================] - 3s 13ms/step - loss: 0.2493 - val_loss: 0.2452\n",
            "Epoch 14/100\n",
            "235/235 [==============================] - 3s 13ms/step - loss: 0.2450 - val_loss: 0.2431\n",
            "Epoch 15/100\n",
            "235/235 [==============================] - 3s 13ms/step - loss: 0.2616 - val_loss: 0.2580\n",
            "Epoch 16/100\n",
            "235/235 [==============================] - 3s 13ms/step - loss: 0.2449 - val_loss: 0.2485\n",
            "Epoch 17/100\n",
            "235/235 [==============================] - 3s 13ms/step - loss: 0.2417 - val_loss: 0.2382\n",
            "Epoch 18/100\n",
            "235/235 [==============================] - 3s 13ms/step - loss: 0.2485 - val_loss: 0.2483\n",
            "Epoch 19/100\n",
            "235/235 [==============================] - 3s 13ms/step - loss: 0.2537 - val_loss: 0.2389\n",
            "Epoch 20/100\n",
            "235/235 [==============================] - 3s 13ms/step - loss: 0.2448 - val_loss: 0.2532\n",
            "Epoch 21/100\n",
            "235/235 [==============================] - 3s 13ms/step - loss: 0.2521 - val_loss: 0.2452\n",
            "Epoch 22/100\n",
            "235/235 [==============================] - 3s 13ms/step - loss: 0.2332 - val_loss: 0.2283\n",
            "Epoch 23/100\n",
            "235/235 [==============================] - 3s 13ms/step - loss: 0.2301 - val_loss: 0.2270\n",
            "Epoch 24/100\n",
            "235/235 [==============================] - 3s 13ms/step - loss: 0.2272 - val_loss: 0.2276\n",
            "Epoch 25/100\n",
            "235/235 [==============================] - 3s 13ms/step - loss: 0.2432 - val_loss: 0.2346\n",
            "Epoch 26/100\n",
            "235/235 [==============================] - 3s 13ms/step - loss: 0.2255 - val_loss: 0.2222\n",
            "Epoch 27/100\n",
            "235/235 [==============================] - 3s 13ms/step - loss: 0.2166 - val_loss: 0.2166\n",
            "Epoch 28/100\n",
            "235/235 [==============================] - 3s 13ms/step - loss: 0.2167 - val_loss: 0.2110\n",
            "Epoch 29/100\n",
            "235/235 [==============================] - 3s 13ms/step - loss: 0.2108 - val_loss: 0.2063\n",
            "Epoch 30/100\n",
            "235/235 [==============================] - 3s 13ms/step - loss: 0.2032 - val_loss: 0.2051\n",
            "Epoch 31/100\n",
            "235/235 [==============================] - 3s 13ms/step - loss: 0.2246 - val_loss: 0.2103\n",
            "Epoch 32/100\n",
            "235/235 [==============================] - 3s 13ms/step - loss: 0.2219 - val_loss: 0.2395\n",
            "Epoch 33/100\n",
            "235/235 [==============================] - 3s 13ms/step - loss: 0.2214 - val_loss: 0.2104\n",
            "Epoch 34/100\n",
            "235/235 [==============================] - 3s 13ms/step - loss: 0.2087 - val_loss: 0.2112\n",
            "Epoch 35/100\n",
            "235/235 [==============================] - 3s 13ms/step - loss: 0.2056 - val_loss: 0.2040\n",
            "Epoch 36/100\n",
            "235/235 [==============================] - 3s 13ms/step - loss: 0.2320 - val_loss: 0.2223\n",
            "Epoch 37/100\n",
            "235/235 [==============================] - 3s 13ms/step - loss: 0.2138 - val_loss: 0.2091\n",
            "Epoch 38/100\n",
            "235/235 [==============================] - 3s 13ms/step - loss: 0.2189 - val_loss: 0.2128\n",
            "Epoch 39/100\n",
            "235/235 [==============================] - 3s 13ms/step - loss: 0.2286 - val_loss: 0.2423\n",
            "Epoch 40/100\n",
            "235/235 [==============================] - 3s 13ms/step - loss: 0.2220 - val_loss: 0.2128\n",
            "Epoch 41/100\n",
            "235/235 [==============================] - 3s 13ms/step - loss: 0.2129 - val_loss: 0.2612\n",
            "Epoch 42/100\n",
            "235/235 [==============================] - 3s 13ms/step - loss: 0.2168 - val_loss: 0.2166\n",
            "Epoch 43/100\n",
            "235/235 [==============================] - 3s 13ms/step - loss: 0.2095 - val_loss: 0.2070\n",
            "Epoch 44/100\n",
            "235/235 [==============================] - 3s 13ms/step - loss: 0.2082 - val_loss: 0.2034\n",
            "Epoch 45/100\n",
            "235/235 [==============================] - 3s 13ms/step - loss: 0.2223 - val_loss: 0.2539\n",
            "Epoch 46/100\n",
            "235/235 [==============================] - 3s 13ms/step - loss: 0.2242 - val_loss: 0.2111\n",
            "Epoch 47/100\n",
            "235/235 [==============================] - 3s 13ms/step - loss: 0.2129 - val_loss: 0.2115\n",
            "Epoch 48/100\n",
            "235/235 [==============================] - 3s 13ms/step - loss: 0.2079 - val_loss: 0.2030\n",
            "Epoch 49/100\n",
            "235/235 [==============================] - 3s 13ms/step - loss: 0.2088 - val_loss: 0.2037\n",
            "Epoch 50/100\n",
            "235/235 [==============================] - 3s 13ms/step - loss: 0.2026 - val_loss: 0.1986\n",
            "Epoch 51/100\n",
            "235/235 [==============================] - 3s 13ms/step - loss: 0.2172 - val_loss: 0.2237\n",
            "Epoch 52/100\n",
            "235/235 [==============================] - 3s 13ms/step - loss: 0.2106 - val_loss: 0.2070\n",
            "Epoch 53/100\n",
            "235/235 [==============================] - 3s 13ms/step - loss: 0.2188 - val_loss: 0.2117\n",
            "Epoch 54/100\n",
            "235/235 [==============================] - 3s 13ms/step - loss: 0.2071 - val_loss: 0.2024\n",
            "Epoch 55/100\n",
            "235/235 [==============================] - 3s 13ms/step - loss: 0.2209 - val_loss: 0.2267\n",
            "Epoch 56/100\n",
            "235/235 [==============================] - 3s 13ms/step - loss: 0.2221 - val_loss: 0.2132\n",
            "Epoch 57/100\n",
            "235/235 [==============================] - 3s 13ms/step - loss: 0.2102 - val_loss: 0.2044\n",
            "Epoch 58/100\n",
            "235/235 [==============================] - 3s 13ms/step - loss: 0.2127 - val_loss: 0.2141\n",
            "Epoch 59/100\n",
            "235/235 [==============================] - 3s 13ms/step - loss: 0.2122 - val_loss: 0.2141\n",
            "Epoch 60/100\n",
            "235/235 [==============================] - 3s 13ms/step - loss: 0.2089 - val_loss: 0.2126\n",
            "Epoch 61/100\n",
            "235/235 [==============================] - 3s 13ms/step - loss: 0.2098 - val_loss: 0.2082\n",
            "Epoch 62/100\n",
            "235/235 [==============================] - 3s 13ms/step - loss: 0.2074 - val_loss: 0.2063\n",
            "Epoch 63/100\n",
            "235/235 [==============================] - 3s 13ms/step - loss: 0.2085 - val_loss: 0.2160\n",
            "Epoch 64/100\n",
            "235/235 [==============================] - 3s 13ms/step - loss: 0.2056 - val_loss: 0.2067\n",
            "Epoch 65/100\n",
            "235/235 [==============================] - 3s 13ms/step - loss: 0.2042 - val_loss: 0.2059\n",
            "Epoch 66/100\n",
            "235/235 [==============================] - 3s 13ms/step - loss: 0.2097 - val_loss: 0.2111\n",
            "Epoch 67/100\n",
            "235/235 [==============================] - 3s 13ms/step - loss: 0.2028 - val_loss: 0.2086\n",
            "Epoch 68/100\n",
            "235/235 [==============================] - 3s 13ms/step - loss: 0.2162 - val_loss: 0.2282\n",
            "Epoch 69/100\n",
            "235/235 [==============================] - 3s 13ms/step - loss: 0.2169 - val_loss: 0.2092\n",
            "Epoch 70/100\n",
            "235/235 [==============================] - 3s 13ms/step - loss: 0.2072 - val_loss: 0.2033\n",
            "Epoch 71/100\n",
            "235/235 [==============================] - 3s 13ms/step - loss: 0.2097 - val_loss: 0.2180\n",
            "Epoch 72/100\n",
            "235/235 [==============================] - 3s 13ms/step - loss: 0.2045 - val_loss: 0.2050\n",
            "Epoch 73/100\n",
            "235/235 [==============================] - 3s 13ms/step - loss: 0.2117 - val_loss: 0.2090\n",
            "Epoch 74/100\n",
            "235/235 [==============================] - 3s 13ms/step - loss: 0.2045 - val_loss: 0.2014\n",
            "Epoch 75/100\n",
            "235/235 [==============================] - 3s 13ms/step - loss: 0.2073 - val_loss: 0.2048\n",
            "Epoch 76/100\n",
            "235/235 [==============================] - 3s 13ms/step - loss: 0.2033 - val_loss: 0.2010\n",
            "Epoch 77/100\n",
            "235/235 [==============================] - 3s 13ms/step - loss: 0.2032 - val_loss: 0.2020\n",
            "Epoch 78/100\n",
            "235/235 [==============================] - 3s 13ms/step - loss: 0.2086 - val_loss: 0.2056\n",
            "Epoch 79/100\n",
            "235/235 [==============================] - 3s 13ms/step - loss: 0.2049 - val_loss: 0.2063\n",
            "Epoch 80/100\n",
            "235/235 [==============================] - 3s 13ms/step - loss: 0.2015 - val_loss: 0.1966\n",
            "Epoch 81/100\n",
            "235/235 [==============================] - 3s 13ms/step - loss: 0.2017 - val_loss: 0.1972\n",
            "Epoch 82/100\n",
            "235/235 [==============================] - 3s 13ms/step - loss: 0.2100 - val_loss: 0.2336\n",
            "Epoch 83/100\n",
            "235/235 [==============================] - 3s 14ms/step - loss: 0.2042 - val_loss: 0.2017\n",
            "Epoch 84/100\n",
            "235/235 [==============================] - 3s 13ms/step - loss: 0.2002 - val_loss: 0.1951\n",
            "Epoch 85/100\n",
            "235/235 [==============================] - 3s 13ms/step - loss: 0.1941 - val_loss: 0.1921\n",
            "Epoch 86/100\n",
            "235/235 [==============================] - 3s 13ms/step - loss: 0.2061 - val_loss: 0.2046\n",
            "Epoch 87/100\n",
            "235/235 [==============================] - 3s 13ms/step - loss: 0.2083 - val_loss: 0.2073\n",
            "Epoch 88/100\n",
            "235/235 [==============================] - 3s 13ms/step - loss: 0.2100 - val_loss: 0.2000\n",
            "Epoch 89/100\n",
            "235/235 [==============================] - 3s 13ms/step - loss: 0.2108 - val_loss: 0.2141\n",
            "Epoch 90/100\n",
            "235/235 [==============================] - 3s 13ms/step - loss: 0.2060 - val_loss: 0.1975\n",
            "Epoch 91/100\n",
            "235/235 [==============================] - 3s 13ms/step - loss: 0.2013 - val_loss: 0.2170\n",
            "Epoch 92/100\n",
            "235/235 [==============================] - 3s 13ms/step - loss: 0.2029 - val_loss: 0.2027\n",
            "Epoch 93/100\n",
            "235/235 [==============================] - 3s 13ms/step - loss: 0.2014 - val_loss: 0.2064\n",
            "Epoch 94/100\n",
            "235/235 [==============================] - 3s 13ms/step - loss: 0.2019 - val_loss: 0.1969\n",
            "Epoch 95/100\n",
            "235/235 [==============================] - 3s 13ms/step - loss: 0.2205 - val_loss: 0.2180\n",
            "Epoch 96/100\n",
            "235/235 [==============================] - 3s 13ms/step - loss: 0.2101 - val_loss: 0.2007\n",
            "Epoch 97/100\n",
            "235/235 [==============================] - 3s 13ms/step - loss: 0.2075 - val_loss: 0.2064\n",
            "Epoch 98/100\n",
            "235/235 [==============================] - 3s 13ms/step - loss: 0.2024 - val_loss: 0.1952\n",
            "Epoch 99/100\n",
            "235/235 [==============================] - 3s 13ms/step - loss: 0.2051 - val_loss: 0.2062\n",
            "Epoch 100/100\n",
            "235/235 [==============================] - 3s 13ms/step - loss: 0.1992 - val_loss: 0.1943\n"
          ]
        },
        {
          "output_type": "execute_result",
          "data": {
            "text/plain": [
              "<keras.callbacks.History at 0x7f189a31a810>"
            ]
          },
          "metadata": {},
          "execution_count": 7
        }
      ]
    },
    {
      "cell_type": "code",
      "metadata": {
        "id": "Qd4IM9wiadkQ"
      },
      "source": [
        ""
      ],
      "execution_count": null,
      "outputs": []
    },
    {
      "cell_type": "markdown",
      "metadata": {
        "id": "kKlHfROHw8mw"
      },
      "source": [
        "# Convolutional autoencoder"
      ]
    },
    {
      "cell_type": "code",
      "metadata": {
        "id": "BoSnOHpmw7ly"
      },
      "source": [
        ""
      ],
      "execution_count": null,
      "outputs": []
    },
    {
      "cell_type": "code",
      "metadata": {
        "id": "cMBAyVE3w7oj"
      },
      "source": [
        ""
      ],
      "execution_count": null,
      "outputs": []
    },
    {
      "cell_type": "code",
      "metadata": {
        "id": "00JYrfVKadnL"
      },
      "source": [
        "\n"
      ],
      "execution_count": null,
      "outputs": []
    },
    {
      "cell_type": "code",
      "metadata": {
        "id": "rkK6GMhYXN2f"
      },
      "source": [
        ""
      ],
      "execution_count": null,
      "outputs": []
    },
    {
      "cell_type": "markdown",
      "metadata": {
        "id": "k5sj-WnacWL6"
      },
      "source": [
        "# visualization"
      ]
    },
    {
      "cell_type": "code",
      "metadata": {
        "id": "JfjS_qkeXN2f"
      },
      "source": [
        "# encode and decode some images\n",
        "#encoded_imgs = encoder.predict(x_test)\n",
        "#decoded_imgs = decoder.predict(encoded_imgs)\n",
        "\n",
        "reconstructed = autoencoder.predict(x_test)"
      ],
      "execution_count": null,
      "outputs": []
    },
    {
      "cell_type": "code",
      "metadata": {
        "colab": {
          "base_uri": "https://localhost:8080/",
          "height": 252
        },
        "id": "jC0PMWh8XN2f",
        "outputId": "17f91498-2986-4075-cb2c-6fd348604eaf"
      },
      "source": [
        "n = 10  # How many digits we will display\n",
        "plt.figure(figsize=(20, 4))\n",
        "for i in range(n):\n",
        "    # Display original\n",
        "    ax = plt.subplot(3, n, i + 1)\n",
        "    plt.imshow(x_test[i].reshape(28, 28))\n",
        "    plt.gray()\n",
        "    ax.get_xaxis().set_visible(False)\n",
        "    ax.get_yaxis().set_visible(False)\n",
        "\n",
        "    # Display reconstruction\n",
        "    ax = plt.subplot(3, n, i + 1 + n)\n",
        "    plt.imshow(reconstructed[i].reshape(28, 28))\n",
        "    plt.gray()\n",
        "    ax.get_xaxis().set_visible(False)\n",
        "    ax.get_yaxis().set_visible(False)\n",
        "    \n",
        "    # Display reconstruction\n",
        "    ax = plt.subplot(3, n, i + 1 + 2*n)\n",
        "    #plt.imshow(decoded_imgs[i].reshape(28, 28))\n",
        "    plt.gray()\n",
        "    ax.get_xaxis().set_visible(False)\n",
        "    ax.get_yaxis().set_visible(False)\n",
        "plt.show()"
      ],
      "execution_count": null,
      "outputs": [
        {
          "output_type": "display_data",
          "data": {
            "image/png": "[encoded data removed]",
            "text/plain": [
              "<Figure size 1440x288 with 30 Axes>"
            ]
          },
          "metadata": {
            "needs_background": "light"
          }
        }
      ]
    },
    {
      "cell_type": "code",
      "metadata": {
        "id": "8EEQQCVFfbA6"
      },
      "source": [
        ""
      ],
      "execution_count": null,
      "outputs": []
    }
  ]
}